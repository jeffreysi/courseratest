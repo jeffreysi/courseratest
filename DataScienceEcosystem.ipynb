{
 "cells": [
  {
   "cell_type": "markdown",
   "id": "938611db",
   "metadata": {},
   "source": [
    "# Data Science Tools and Ecosystem"
   ]
  },
  {
   "cell_type": "markdown",
   "id": "09cb399e",
   "metadata": {},
   "source": [
    "In this notebook, Data Science Tools and Ecosystem are summarized."
   ]
  },
  {
   "cell_type": "markdown",
   "id": "4000f21d",
   "metadata": {},
   "source": [
    "Some of the popular languages that Data Scientists use are:\n",
    "1. Python\n",
    "2. R\n",
    "3. SQL\n",
    "4. Julia"
   ]
  },
  {
   "cell_type": "markdown",
   "id": "b8495785",
   "metadata": {},
   "source": [
    "Some of the commonly used libraries used by Data Scientists include:\n",
    "1. pandas\n",
    "2. numpy\n",
    "3. matplotlib\n",
    "4. scikit-learn"
   ]
  },
  {
   "cell_type": "markdown",
   "id": "44c38ac8",
   "metadata": {},
   "source": [
    "|Data Science Tools|\n",
    "|------------------|\n",
    "|Jupyter Notebooks|\n",
    "|R-Studio|\n",
    "|MySQL|\n",
    "|Anaconda|"
   ]
  },
  {
   "cell_type": "markdown",
   "id": "0fe9f9ab",
   "metadata": {},
   "source": [
    "### Below are a few examples of evaluating arithmetic expressions in python"
   ]
  },
  {
   "cell_type": "code",
   "execution_count": 2,
   "id": "33a9148b",
   "metadata": {},
   "outputs": [
    {
     "name": "stdout",
     "output_type": "stream",
     "text": [
      "17\n"
     ]
    }
   ],
   "source": [
    "## This is a simple arithmetic expression to multiply then add integers\n",
    "x=(3*4)\n",
    "y=x+5\n",
    "print(y)"
   ]
  },
  {
   "cell_type": "code",
   "execution_count": 3,
   "id": "d3bb9103",
   "metadata": {},
   "outputs": [
    {
     "name": "stdout",
     "output_type": "stream",
     "text": [
      "3.3333333333333335\n"
     ]
    }
   ],
   "source": [
    "## This will convert 200 minutes to hours by dividing by 60\n",
    "min = 200\n",
    "hr = 200/60\n",
    "print (hr)"
   ]
  },
  {
   "cell_type": "markdown",
   "id": "74dd222f",
   "metadata": {},
   "source": [
    "__Objectives:__\n",
    "- Showing python use case for basic arithmetic\n",
    "- highlighting key data scientist languages used\n",
    "- creating markdown files with headers and tables\n",
    "- some libraries that are useful for data scientists\n",
    "- highlight value of jupyter notebooks with ability to use different languages and clearly label as you work for easeier re-usability"
   ]
  },
  {
   "cell_type": "markdown",
   "id": "6039a7e3",
   "metadata": {},
   "source": [
    "## Author\n",
    "Jeffrey S"
   ]
  },
  {
   "cell_type": "code",
   "execution_count": null,
   "id": "d471aaab",
   "metadata": {},
   "outputs": [],
   "source": []
  }
 ],
 "metadata": {
  "kernelspec": {
   "display_name": "Python 3 (ipykernel)",
   "language": "python",
   "name": "python3"
  },
  "language_info": {
   "codemirror_mode": {
    "name": "ipython",
    "version": 3
   },
   "file_extension": ".py",
   "mimetype": "text/x-python",
   "name": "python",
   "nbconvert_exporter": "python",
   "pygments_lexer": "ipython3",
   "version": "3.11.5"
  }
 },
 "nbformat": 4,
 "nbformat_minor": 5
}
